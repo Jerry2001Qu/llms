{
 "cells": [
  {
   "cell_type": "code",
   "execution_count": 186,
   "metadata": {},
   "outputs": [],
   "source": [
    "import torch\n",
    "import torch.nn.functional as F\n",
    "import matplotlib.pyplot as plt\n",
    "%matplotlib inline"
   ]
  },
  {
   "cell_type": "code",
   "execution_count": 187,
   "metadata": {},
   "outputs": [
    {
     "data": {
      "text/plain": [
       "['emma', 'olivia', 'ava', 'isabella', 'sophia', 'charlotte', 'mia', 'amelia']"
      ]
     },
     "execution_count": 187,
     "metadata": {},
     "output_type": "execute_result"
    }
   ],
   "source": [
    "with open('names.txt', 'r') as f:\n",
    "    words = f.read().splitlines()\n",
    "words[:8]"
   ]
  },
  {
   "cell_type": "code",
   "execution_count": 188,
   "metadata": {},
   "outputs": [
    {
     "data": {
      "text/plain": [
       "32033"
      ]
     },
     "execution_count": 188,
     "metadata": {},
     "output_type": "execute_result"
    }
   ],
   "source": [
    "len(words)"
   ]
  },
  {
   "cell_type": "code",
   "execution_count": 189,
   "metadata": {},
   "outputs": [
    {
     "data": {
      "text/plain": [
       "(array([6.4000e+02, 2.9830e+03, 7.1330e+03, 1.6476e+04, 3.1080e+03,\n",
       "        1.1180e+03, 5.0800e+02, 2.9000e+01, 3.0000e+01, 8.0000e+00]),\n",
       " array([ 2. ,  3.3,  4.6,  5.9,  7.2,  8.5,  9.8, 11.1, 12.4, 13.7, 15. ]),\n",
       " <BarContainer object of 10 artists>)"
      ]
     },
     "execution_count": 189,
     "metadata": {},
     "output_type": "execute_result"
    },
    {
     "data": {
      "image/png": "[encoded data removed]",
      "text/plain": [
       "<Figure size 640x480 with 1 Axes>"
      ]
     },
     "metadata": {},
     "output_type": "display_data"
    }
   ],
   "source": [
    "plt.hist([len(w) for w in words])"
   ]
  },
  {
   "cell_type": "code",
   "execution_count": 190,
   "metadata": {},
   "outputs": [],
   "source": [
    "chars = sorted(list(set(''.join(words))))\n",
    "stoi = {s: i+1 for i, s in enumerate(chars)}\n",
    "stoi['.'] = 0\n",
    "itos = {i: s for s, i in stoi.items()}"
   ]
  },
  {
   "cell_type": "code",
   "execution_count": 191,
   "metadata": {},
   "outputs": [
    {
     "name": "stdout",
     "output_type": "stream",
     "text": [
      "torch.Size([182625, 3]) torch.Size([182625])\n",
      "torch.Size([22655, 3]) torch.Size([22655])\n",
      "torch.Size([22866, 3]) torch.Size([22866])\n"
     ]
    }
   ],
   "source": [
    "block_size = 3\n",
    "\n",
    "def build_dataset(words):\n",
    "    X, Y = [], []\n",
    "    for w in words:\n",
    "        context = [0] * block_size\n",
    "        for ch in w + '.':\n",
    "            ix = stoi[ch]\n",
    "            X.append(context)\n",
    "            Y.append(ix)\n",
    "            context = context[1:] + [ix]\n",
    "\n",
    "    X, Y = torch.tensor(X), torch.tensor(Y)\n",
    "    print(X.shape, Y.shape)\n",
    "    return X, Y\n",
    "\n",
    "import random\n",
    "random.seed(42)\n",
    "random.shuffle(words)\n",
    "\n",
    "n1 = int(0.8*len(words))\n",
    "n2 = int(0.9*len(words))\n",
    "\n",
    "Xtr, Ytr = build_dataset(words[:n1])\n",
    "Xdev, Ydev = build_dataset(words[n1:n2])\n",
    "Xte, Yte = build_dataset(words[n2:])"
   ]
  },
  {
   "cell_type": "code",
   "execution_count": 225,
   "metadata": {},
   "outputs": [],
   "source": [
    "embedding_size = 10\n",
    "hl_size = 400\n",
    "\n",
    "g = torch.Generator().manual_seed(2147483647)\n",
    "C = torch.randn((27, embedding_size),                       generator=g)\n",
    "W1 = torch.randn((embedding_size * block_size, hl_size),    generator=g) * 0.2\n",
    "b1 = torch.randn(hl_size,                                   generator=g) * 0.01\n",
    "W2 = torch.randn((hl_size, 27),                             generator=g) * 0.01\n",
    "b2 = torch.randn(27,                                        generator=g) * 0\n",
    "parameters = [C, W1, b1, W2, b2]\n",
    "\n",
    "for p in parameters:\n",
    "    p.requires_grad = True\n",
    "\n",
    "lre = torch.linspace(-3, 0, 1000)\n",
    "lrs = 10**lre\n",
    "\n",
    "lri = []\n",
    "lossi = []\n",
    "stepi = []"
   ]
  },
  {
   "cell_type": "code",
   "execution_count": 226,
   "metadata": {},
   "outputs": [],
   "source": [
    "@torch.no_grad()\n",
    "def split_loss(split, verbose=True):\n",
    "    X, Y = {\n",
    "        'train': (Xtr, Ytr),\n",
    "        'val': (Xdev, Ydev),\n",
    "        'test': (Xte, Yte),\n",
    "    }[split]\n",
    "\n",
    "    emb = C[X] # [32, 3, 2]\n",
    "    h = torch.tanh(emb.view(-1, embedding_size * block_size) @ W1 + b1) # [32, 100]\n",
    "    logits = h @ W2 + b2 # [32, 27]\n",
    "    loss = F.cross_entropy(logits, Y)\n",
    "    if verbose:\n",
    "        print(split, loss.item())\n",
    "    return loss.item()"
   ]
  },
  {
   "cell_type": "code",
   "execution_count": 227,
   "metadata": {},
   "outputs": [
    {
     "name": "stdout",
     "output_type": "stream",
     "text": [
      "      0/ 400000: 3.3061 (train), 3.1953 (val)\n",
      "  10000/ 400000: 2.1307 (train), 2.2275 (val)\n",
      "  20000/ 400000: 1.9449 (train), 2.1821 (val)\n",
      "  30000/ 400000: 2.0275 (train), 2.1720 (val)\n",
      "  40000/ 400000: 2.0087 (train), 2.1778 (val)\n",
      "  50000/ 400000: 1.6486 (train), 2.1683 (val)\n",
      "  60000/ 400000: 2.1638 (train), 2.1677 (val)\n",
      "  70000/ 400000: 2.1604 (train), 2.1601 (val)\n",
      "  80000/ 400000: 2.0086 (train), 2.1596 (val)\n",
      "  90000/ 400000: 1.8728 (train), 2.1599 (val)\n",
      " 100000/ 400000: 1.8577 (train), 2.1696 (val)\n",
      " 110000/ 400000: 2.1746 (train), 2.1810 (val)\n",
      " 120000/ 400000: 2.0567 (train), 2.1741 (val)\n",
      " 130000/ 400000: 1.8996 (train), 2.1651 (val)\n",
      " 140000/ 400000: 1.9814 (train), 2.1808 (val)\n",
      " 150000/ 400000: 2.1471 (train), 2.1673 (val)\n",
      " 160000/ 400000: 1.9888 (train), 2.1782 (val)\n",
      " 170000/ 400000: 2.3825 (train), 2.1745 (val)\n",
      " 180000/ 400000: 2.4893 (train), 2.1581 (val)\n",
      " 190000/ 400000: 2.0564 (train), 2.1637 (val)\n",
      " 200000/ 400000: 2.1761 (train), 2.1718 (val)\n",
      " 210000/ 400000: 1.7684 (train), 2.0904 (val)\n",
      " 220000/ 400000: 1.7075 (train), 2.0889 (val)\n",
      " 230000/ 400000: 2.0392 (train), 2.0894 (val)\n",
      " 240000/ 400000: 2.1709 (train), 2.0908 (val)\n",
      " 250000/ 400000: 2.2085 (train), 2.0909 (val)\n",
      " 260000/ 400000: 2.1870 (train), 2.0916 (val)\n",
      " 270000/ 400000: 2.0418 (train), 2.0895 (val)\n",
      " 280000/ 400000: 2.1065 (train), 2.0925 (val)\n",
      " 290000/ 400000: 2.0645 (train), 2.0921 (val)\n",
      " 300000/ 400000: 1.9789 (train), 2.0936 (val)\n",
      " 310000/ 400000: 1.7861 (train), 2.0933 (val)\n",
      " 320000/ 400000: 1.9881 (train), 2.0931 (val)\n",
      " 330000/ 400000: 1.9741 (train), 2.0942 (val)\n",
      " 340000/ 400000: 2.2005 (train), 2.0969 (val)\n",
      " 350000/ 400000: 2.0192 (train), 2.0960 (val)\n",
      " 360000/ 400000: 1.9688 (train), 2.0943 (val)\n",
      " 370000/ 400000: 1.9624 (train), 2.0955 (val)\n",
      " 380000/ 400000: 1.7281 (train), 2.0956 (val)\n",
      " 390000/ 400000: 1.7305 (train), 2.0967 (val)\n"
     ]
    }
   ],
   "source": [
    "max_steps = 400000\n",
    "\n",
    "for i in range(max_steps):\n",
    "    # minibatching\n",
    "    ix = torch.randint(0, Xtr.shape[0], (64,), generator=g)\n",
    "\n",
    "    # forward pass\n",
    "    emb = C[Xtr[ix]] # [32, 3, 2]\n",
    "    embcat = emb.view(-1, embedding_size * block_size)\n",
    "    hpreact = embcat @ W1 + b1\n",
    "    h = torch.tanh(hpreact) # [32, 100]\n",
    "    logits = h @ W2 + b2 # [32, 27]\n",
    "    loss = F.cross_entropy(logits, Ytr[ix])\n",
    "    # print(loss.item())\n",
    "\n",
    "    # backward pass\n",
    "    for p in parameters:\n",
    "        p.grad = None\n",
    "    loss.backward()\n",
    "\n",
    "    # update\n",
    "    lr = 0.1 if i <= 200000 else 0.01\n",
    "    for p in parameters:\n",
    "        p.data += -lr * p.grad\n",
    "\n",
    "    # track stats\n",
    "    # lri.append(lre[i])\n",
    "    stepi.append(i)\n",
    "    lossi.append(loss.log10().item())\n",
    "\n",
    "    if i % 10000 == 0:\n",
    "        print(f'{i:7d}/{max_steps:7d}: {loss.item():.4f} (train), {split_loss('val', verbose=False):.4f} (val)')\n",
    "\n",
    "# print(loss.item())"
   ]
  },
  {
   "cell_type": "code",
   "execution_count": 229,
   "metadata": {},
   "outputs": [
    {
     "name": "stdout",
     "output_type": "stream",
     "text": [
      "train 1.9530006647109985\n",
      "val 2.096299409866333\n"
     ]
    },
    {
     "data": {
      "text/plain": [
       "2.096299409866333"
      ]
     },
     "execution_count": 229,
     "metadata": {},
     "output_type": "execute_result"
    }
   ],
   "source": [
    "split_loss('train')\n",
    "split_loss('val')"
   ]
  },
  {
   "cell_type": "code",
   "execution_count": 184,
   "metadata": {},
   "outputs": [
    {
     "data": {
      "text/plain": [
       "[<matplotlib.lines.Line2D at 0x22ecb179580>]"
      ]
     },
     "execution_count": 184,
     "metadata": {},
     "output_type": "execute_result"
    },
    {
     "data": {
      "image/png": "[encoded data removed]",
      "text/plain": [
       "<Figure size 640x480 with 1 Axes>"
      ]
     },
     "metadata": {},
     "output_type": "display_data"
    }
   ],
   "source": [
    "plt.plot(stepi, lossi)\n",
    "# plt.plot(lri, lossi)"
   ]
  },
  {
   "cell_type": "code",
   "execution_count": 185,
   "metadata": {},
   "outputs": [
    {
     "name": "stdout",
     "output_type": "stream",
     "text": [
      "bran.\n",
      "jah.\n",
      "lamyre.\n",
      "aaraeh.\n",
      "cae.\n",
      "naiseylonne.\n",
      "bluel.\n",
      "peniyanna.\n",
      "olo.\n",
      "rem.\n",
      "nica.\n",
      "asaela.\n",
      "humzhangeleigh.\n",
      "lacquezeki.\n",
      "kora.\n",
      "joselea.\n",
      "brys.\n",
      "fes.\n",
      "pheom.\n",
      "shan.\n"
     ]
    }
   ],
   "source": [
    "g = torch.Generator().manual_seed(4)\n",
    "\n",
    "for _ in range(20):\n",
    "    out = []\n",
    "    context = [0] * block_size\n",
    "    while True:\n",
    "        emb = C[torch.tensor([context])]\n",
    "        h = torch.tanh(emb.view(1, -1) @ W1 + b1)\n",
    "        logits = h @ W2 + b2\n",
    "        probs = F.softmax(logits, dim=1)\n",
    "        ix = torch.multinomial(probs, num_samples=1, generator=g).item()\n",
    "        context = context[1:] + [ix]\n",
    "        out.append(ix)\n",
    "        if ix == 0:\n",
    "            break\n",
    "    \n",
    "    print(''.join(itos[i] for i in out))"
   ]
  },
  {
   "cell_type": "code",
   "execution_count": null,
   "metadata": {},
   "outputs": [],
   "source": []
  }
 ],
 "metadata": {
  "kernelspec": {
   "display_name": ".venv",
   "language": "python",
   "name": "python3"
  },
  "language_info": {
   "codemirror_mode": {
    "name": "ipython",
    "version": 3
   },
   "file_extension": ".py",
   "mimetype": "text/x-python",
   "name": "python",
   "nbconvert_exporter": "python",
   "pygments_lexer": "ipython3",
   "version": "3.12.1"
  }
 },
 "nbformat": 4,
 "nbformat_minor": 2
}
